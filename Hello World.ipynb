{
 "cells": [
  {
   "cell_type": "markdown",
   "id": "2c41ee0c-3751-496b-8a4e-66a6d67464ca",
   "metadata": {},
   "source": [
    "# First Jupyter Notebook\n",
    "## Test install by printing \"Hello World!\"\n"
   ]
  },
  {
   "cell_type": "code",
   "execution_count": 2,
   "id": "b53983e1-11a6-4a8f-b608-6e977a6545d8",
   "metadata": {},
   "outputs": [
    {
     "name": "stdout",
     "output_type": "stream",
     "text": [
      "Hello World!\n"
     ]
    }
   ],
   "source": [
    "print(\"Hello World!\")"
   ]
  },
  {
   "cell_type": "code",
   "execution_count": null,
   "id": "d151dbb8-be27-43c0-b3ed-592b8633ab7a",
   "metadata": {},
   "outputs": [],
   "source": []
  }
 ],
 "metadata": {
  "kernelspec": {
   "display_name": "Python 3 (ipykernel)",
   "language": "python",
   "name": "python3"
  },
  "language_info": {
   "codemirror_mode": {
    "name": "ipython",
    "version": 3
   },
   "file_extension": ".py",
   "mimetype": "text/x-python",
   "name": "python",
   "nbconvert_exporter": "python",
   "pygments_lexer": "ipython3",
   "version": "3.13.1"
  }
 },
 "nbformat": 4,
 "nbformat_minor": 5
}
